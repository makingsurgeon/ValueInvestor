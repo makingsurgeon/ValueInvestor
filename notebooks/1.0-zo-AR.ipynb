{
 "cells": [
  {
   "cell_type": "code",
   "execution_count": 32,
   "id": "3d171578-f0ec-4bfa-9254-ecd0be65bd61",
   "metadata": {},
   "outputs": [],
   "source": [
    "import yfinance as yf\n",
    "import matplotlib.pyplot as plt"
   ]
  },
  {
   "cell_type": "code",
   "execution_count": 13,
   "id": "72702a67-44b1-4330-a793-0302d57a1ba2",
   "metadata": {},
   "outputs": [
    {
     "name": "stdout",
     "output_type": "stream",
     "text": [
      "[*********************100%%**********************]  1 of 1 completed\n"
     ]
    }
   ],
   "source": [
    "data = yf.download('MSFT','2020-01-01', '2023-09-09')"
   ]
  },
  {
   "cell_type": "code",
   "execution_count": 14,
   "id": "abd5ead6-3be0-47a2-a913-d393d0ea3cf1",
   "metadata": {},
   "outputs": [
    {
     "data": {
      "text/html": [
       "<div>\n",
       "<style scoped>\n",
       "    .dataframe tbody tr th:only-of-type {\n",
       "        vertical-align: middle;\n",
       "    }\n",
       "\n",
       "    .dataframe tbody tr th {\n",
       "        vertical-align: top;\n",
       "    }\n",
       "\n",
       "    .dataframe thead th {\n",
       "        text-align: right;\n",
       "    }\n",
       "</style>\n",
       "<table border=\"1\" class=\"dataframe\">\n",
       "  <thead>\n",
       "    <tr style=\"text-align: right;\">\n",
       "      <th></th>\n",
       "      <th>Open</th>\n",
       "      <th>High</th>\n",
       "      <th>Low</th>\n",
       "      <th>Close</th>\n",
       "      <th>Adj Close</th>\n",
       "      <th>Volume</th>\n",
       "    </tr>\n",
       "    <tr>\n",
       "      <th>Date</th>\n",
       "      <th></th>\n",
       "      <th></th>\n",
       "      <th></th>\n",
       "      <th></th>\n",
       "      <th></th>\n",
       "      <th></th>\n",
       "    </tr>\n",
       "  </thead>\n",
       "  <tbody>\n",
       "    <tr>\n",
       "      <th>2020-01-02</th>\n",
       "      <td>158.779999</td>\n",
       "      <td>160.729996</td>\n",
       "      <td>158.330002</td>\n",
       "      <td>160.619995</td>\n",
       "      <td>155.093674</td>\n",
       "      <td>22622100</td>\n",
       "    </tr>\n",
       "    <tr>\n",
       "      <th>2020-01-03</th>\n",
       "      <td>158.320007</td>\n",
       "      <td>159.949997</td>\n",
       "      <td>158.059998</td>\n",
       "      <td>158.619995</td>\n",
       "      <td>153.162491</td>\n",
       "      <td>21116200</td>\n",
       "    </tr>\n",
       "    <tr>\n",
       "      <th>2020-01-06</th>\n",
       "      <td>157.080002</td>\n",
       "      <td>159.100006</td>\n",
       "      <td>156.509995</td>\n",
       "      <td>159.029999</td>\n",
       "      <td>153.558380</td>\n",
       "      <td>20813700</td>\n",
       "    </tr>\n",
       "    <tr>\n",
       "      <th>2020-01-07</th>\n",
       "      <td>159.320007</td>\n",
       "      <td>159.669998</td>\n",
       "      <td>157.320007</td>\n",
       "      <td>157.580002</td>\n",
       "      <td>152.158264</td>\n",
       "      <td>21634100</td>\n",
       "    </tr>\n",
       "    <tr>\n",
       "      <th>2020-01-08</th>\n",
       "      <td>158.929993</td>\n",
       "      <td>160.800003</td>\n",
       "      <td>157.949997</td>\n",
       "      <td>160.089996</td>\n",
       "      <td>154.581879</td>\n",
       "      <td>27746500</td>\n",
       "    </tr>\n",
       "    <tr>\n",
       "      <th>...</th>\n",
       "      <td>...</td>\n",
       "      <td>...</td>\n",
       "      <td>...</td>\n",
       "      <td>...</td>\n",
       "      <td>...</td>\n",
       "      <td>...</td>\n",
       "    </tr>\n",
       "    <tr>\n",
       "      <th>2023-09-01</th>\n",
       "      <td>331.309998</td>\n",
       "      <td>331.989990</td>\n",
       "      <td>326.779999</td>\n",
       "      <td>328.660004</td>\n",
       "      <td>328.660004</td>\n",
       "      <td>14931200</td>\n",
       "    </tr>\n",
       "    <tr>\n",
       "      <th>2023-09-05</th>\n",
       "      <td>329.000000</td>\n",
       "      <td>334.850006</td>\n",
       "      <td>328.660004</td>\n",
       "      <td>333.549988</td>\n",
       "      <td>333.549988</td>\n",
       "      <td>18553900</td>\n",
       "    </tr>\n",
       "    <tr>\n",
       "      <th>2023-09-06</th>\n",
       "      <td>333.380005</td>\n",
       "      <td>334.459991</td>\n",
       "      <td>330.179993</td>\n",
       "      <td>332.880005</td>\n",
       "      <td>332.880005</td>\n",
       "      <td>17535800</td>\n",
       "    </tr>\n",
       "    <tr>\n",
       "      <th>2023-09-07</th>\n",
       "      <td>331.290009</td>\n",
       "      <td>333.079987</td>\n",
       "      <td>329.029999</td>\n",
       "      <td>329.910004</td>\n",
       "      <td>329.910004</td>\n",
       "      <td>18381000</td>\n",
       "    </tr>\n",
       "    <tr>\n",
       "      <th>2023-09-08</th>\n",
       "      <td>330.089996</td>\n",
       "      <td>336.160004</td>\n",
       "      <td>329.459991</td>\n",
       "      <td>334.269989</td>\n",
       "      <td>334.269989</td>\n",
       "      <td>19530100</td>\n",
       "    </tr>\n",
       "  </tbody>\n",
       "</table>\n",
       "<p>928 rows × 6 columns</p>\n",
       "</div>"
      ],
      "text/plain": [
       "                  Open        High         Low       Close   Adj Close  \\\n",
       "Date                                                                     \n",
       "2020-01-02  158.779999  160.729996  158.330002  160.619995  155.093674   \n",
       "2020-01-03  158.320007  159.949997  158.059998  158.619995  153.162491   \n",
       "2020-01-06  157.080002  159.100006  156.509995  159.029999  153.558380   \n",
       "2020-01-07  159.320007  159.669998  157.320007  157.580002  152.158264   \n",
       "2020-01-08  158.929993  160.800003  157.949997  160.089996  154.581879   \n",
       "...                ...         ...         ...         ...         ...   \n",
       "2023-09-01  331.309998  331.989990  326.779999  328.660004  328.660004   \n",
       "2023-09-05  329.000000  334.850006  328.660004  333.549988  333.549988   \n",
       "2023-09-06  333.380005  334.459991  330.179993  332.880005  332.880005   \n",
       "2023-09-07  331.290009  333.079987  329.029999  329.910004  329.910004   \n",
       "2023-09-08  330.089996  336.160004  329.459991  334.269989  334.269989   \n",
       "\n",
       "              Volume  \n",
       "Date                  \n",
       "2020-01-02  22622100  \n",
       "2020-01-03  21116200  \n",
       "2020-01-06  20813700  \n",
       "2020-01-07  21634100  \n",
       "2020-01-08  27746500  \n",
       "...              ...  \n",
       "2023-09-01  14931200  \n",
       "2023-09-05  18553900  \n",
       "2023-09-06  17535800  \n",
       "2023-09-07  18381000  \n",
       "2023-09-08  19530100  \n",
       "\n",
       "[928 rows x 6 columns]"
      ]
     },
     "execution_count": 14,
     "metadata": {},
     "output_type": "execute_result"
    }
   ],
   "source": [
    "data"
   ]
  },
  {
   "cell_type": "code",
   "execution_count": 10,
   "id": "d7a68eef-49ae-4db2-937a-0fd0b8edbc12",
   "metadata": {},
   "outputs": [],
   "source": [
    "import pandas as pd"
   ]
  },
  {
   "cell_type": "code",
   "execution_count": 15,
   "id": "369eac40-82bb-4c8b-8a0e-97ab48ce0a43",
   "metadata": {},
   "outputs": [],
   "source": [
    "data = data.reset_index()"
   ]
  },
  {
   "cell_type": "code",
   "execution_count": 16,
   "id": "6116aa20-fcfa-42a9-8cfd-d1e827ccc926",
   "metadata": {},
   "outputs": [
    {
     "data": {
      "text/html": [
       "<div>\n",
       "<style scoped>\n",
       "    .dataframe tbody tr th:only-of-type {\n",
       "        vertical-align: middle;\n",
       "    }\n",
       "\n",
       "    .dataframe tbody tr th {\n",
       "        vertical-align: top;\n",
       "    }\n",
       "\n",
       "    .dataframe thead th {\n",
       "        text-align: right;\n",
       "    }\n",
       "</style>\n",
       "<table border=\"1\" class=\"dataframe\">\n",
       "  <thead>\n",
       "    <tr style=\"text-align: right;\">\n",
       "      <th></th>\n",
       "      <th>Date</th>\n",
       "      <th>Open</th>\n",
       "      <th>High</th>\n",
       "      <th>Low</th>\n",
       "      <th>Close</th>\n",
       "      <th>Adj Close</th>\n",
       "      <th>Volume</th>\n",
       "    </tr>\n",
       "  </thead>\n",
       "  <tbody>\n",
       "    <tr>\n",
       "      <th>0</th>\n",
       "      <td>2020-01-02</td>\n",
       "      <td>158.779999</td>\n",
       "      <td>160.729996</td>\n",
       "      <td>158.330002</td>\n",
       "      <td>160.619995</td>\n",
       "      <td>155.093674</td>\n",
       "      <td>22622100</td>\n",
       "    </tr>\n",
       "    <tr>\n",
       "      <th>1</th>\n",
       "      <td>2020-01-03</td>\n",
       "      <td>158.320007</td>\n",
       "      <td>159.949997</td>\n",
       "      <td>158.059998</td>\n",
       "      <td>158.619995</td>\n",
       "      <td>153.162491</td>\n",
       "      <td>21116200</td>\n",
       "    </tr>\n",
       "    <tr>\n",
       "      <th>2</th>\n",
       "      <td>2020-01-06</td>\n",
       "      <td>157.080002</td>\n",
       "      <td>159.100006</td>\n",
       "      <td>156.509995</td>\n",
       "      <td>159.029999</td>\n",
       "      <td>153.558380</td>\n",
       "      <td>20813700</td>\n",
       "    </tr>\n",
       "    <tr>\n",
       "      <th>3</th>\n",
       "      <td>2020-01-07</td>\n",
       "      <td>159.320007</td>\n",
       "      <td>159.669998</td>\n",
       "      <td>157.320007</td>\n",
       "      <td>157.580002</td>\n",
       "      <td>152.158264</td>\n",
       "      <td>21634100</td>\n",
       "    </tr>\n",
       "    <tr>\n",
       "      <th>4</th>\n",
       "      <td>2020-01-08</td>\n",
       "      <td>158.929993</td>\n",
       "      <td>160.800003</td>\n",
       "      <td>157.949997</td>\n",
       "      <td>160.089996</td>\n",
       "      <td>154.581879</td>\n",
       "      <td>27746500</td>\n",
       "    </tr>\n",
       "    <tr>\n",
       "      <th>...</th>\n",
       "      <td>...</td>\n",
       "      <td>...</td>\n",
       "      <td>...</td>\n",
       "      <td>...</td>\n",
       "      <td>...</td>\n",
       "      <td>...</td>\n",
       "      <td>...</td>\n",
       "    </tr>\n",
       "    <tr>\n",
       "      <th>923</th>\n",
       "      <td>2023-09-01</td>\n",
       "      <td>331.309998</td>\n",
       "      <td>331.989990</td>\n",
       "      <td>326.779999</td>\n",
       "      <td>328.660004</td>\n",
       "      <td>328.660004</td>\n",
       "      <td>14931200</td>\n",
       "    </tr>\n",
       "    <tr>\n",
       "      <th>924</th>\n",
       "      <td>2023-09-05</td>\n",
       "      <td>329.000000</td>\n",
       "      <td>334.850006</td>\n",
       "      <td>328.660004</td>\n",
       "      <td>333.549988</td>\n",
       "      <td>333.549988</td>\n",
       "      <td>18553900</td>\n",
       "    </tr>\n",
       "    <tr>\n",
       "      <th>925</th>\n",
       "      <td>2023-09-06</td>\n",
       "      <td>333.380005</td>\n",
       "      <td>334.459991</td>\n",
       "      <td>330.179993</td>\n",
       "      <td>332.880005</td>\n",
       "      <td>332.880005</td>\n",
       "      <td>17535800</td>\n",
       "    </tr>\n",
       "    <tr>\n",
       "      <th>926</th>\n",
       "      <td>2023-09-07</td>\n",
       "      <td>331.290009</td>\n",
       "      <td>333.079987</td>\n",
       "      <td>329.029999</td>\n",
       "      <td>329.910004</td>\n",
       "      <td>329.910004</td>\n",
       "      <td>18381000</td>\n",
       "    </tr>\n",
       "    <tr>\n",
       "      <th>927</th>\n",
       "      <td>2023-09-08</td>\n",
       "      <td>330.089996</td>\n",
       "      <td>336.160004</td>\n",
       "      <td>329.459991</td>\n",
       "      <td>334.269989</td>\n",
       "      <td>334.269989</td>\n",
       "      <td>19530100</td>\n",
       "    </tr>\n",
       "  </tbody>\n",
       "</table>\n",
       "<p>928 rows × 7 columns</p>\n",
       "</div>"
      ],
      "text/plain": [
       "          Date        Open        High         Low       Close   Adj Close  \\\n",
       "0   2020-01-02  158.779999  160.729996  158.330002  160.619995  155.093674   \n",
       "1   2020-01-03  158.320007  159.949997  158.059998  158.619995  153.162491   \n",
       "2   2020-01-06  157.080002  159.100006  156.509995  159.029999  153.558380   \n",
       "3   2020-01-07  159.320007  159.669998  157.320007  157.580002  152.158264   \n",
       "4   2020-01-08  158.929993  160.800003  157.949997  160.089996  154.581879   \n",
       "..         ...         ...         ...         ...         ...         ...   \n",
       "923 2023-09-01  331.309998  331.989990  326.779999  328.660004  328.660004   \n",
       "924 2023-09-05  329.000000  334.850006  328.660004  333.549988  333.549988   \n",
       "925 2023-09-06  333.380005  334.459991  330.179993  332.880005  332.880005   \n",
       "926 2023-09-07  331.290009  333.079987  329.029999  329.910004  329.910004   \n",
       "927 2023-09-08  330.089996  336.160004  329.459991  334.269989  334.269989   \n",
       "\n",
       "       Volume  \n",
       "0    22622100  \n",
       "1    21116200  \n",
       "2    20813700  \n",
       "3    21634100  \n",
       "4    27746500  \n",
       "..        ...  \n",
       "923  14931200  \n",
       "924  18553900  \n",
       "925  17535800  \n",
       "926  18381000  \n",
       "927  19530100  \n",
       "\n",
       "[928 rows x 7 columns]"
      ]
     },
     "execution_count": 16,
     "metadata": {},
     "output_type": "execute_result"
    }
   ],
   "source": [
    "data"
   ]
  },
  {
   "cell_type": "code",
   "execution_count": 23,
   "id": "f17b065c-cc3d-4b12-b697-9d409005547b",
   "metadata": {},
   "outputs": [],
   "source": [
    "training_set = data.iloc[:756, 5:6].values"
   ]
  },
  {
   "cell_type": "code",
   "execution_count": 33,
   "id": "eb126f69-4bf7-492e-9276-4a973f7a9a02",
   "metadata": {},
   "outputs": [
    {
     "data": {
      "text/plain": [
       "[<matplotlib.lines.Line2D at 0x162aaf460>]"
      ]
     },
     "execution_count": 33,
     "metadata": {},
     "output_type": "execute_result"
    },
    {
     "data": {
      "image/png": "[encoded data removed]",
      "text/plain": [
       "<Figure size 640x480 with 1 Axes>"
      ]
     },
     "metadata": {},
     "output_type": "display_data"
    }
   ],
   "source": [
    "real_stock_price = data.iloc[756:, 5:6].values.tolist()\n",
    "a = []\n",
    "for i in range(172):\n",
    "    a.append(float(real_stock_price[i][0]))\n",
    "plt.plot(a, color = 'black')"
   ]
  },
  {
   "cell_type": "code",
   "execution_count": 36,
   "id": "8dc5eb9e-738c-49e6-8d01-2d76a6795fff",
   "metadata": {},
   "outputs": [],
   "source": [
    "from statsmodels.tsa.stattools import adfuller"
   ]
  },
  {
   "cell_type": "code",
   "execution_count": 37,
   "id": "efa71083-2008-4ecb-a965-05405f87fac9",
   "metadata": {},
   "outputs": [],
   "source": [
    "df_stationarityTest = adfuller(training_set, autolag='AIC')"
   ]
  },
  {
   "cell_type": "code",
   "execution_count": 38,
   "id": "dd5594f6-cd4a-4a69-9356-117e10d05a5e",
   "metadata": {},
   "outputs": [
    {
     "name": "stdout",
     "output_type": "stream",
     "text": [
      "P-value:  0.35158828215360427\n"
     ]
    }
   ],
   "source": [
    "print(\"P-value: \", df_stationarityTest[1])"
   ]
  },
  {
   "cell_type": "code",
   "execution_count": 39,
   "id": "59d2738c-0a6b-4bc7-a1ed-0372ce55a080",
   "metadata": {},
   "outputs": [
    {
     "data": {
      "image/png": "[encoded data removed]",
      "text/plain": [
       "<Figure size 640x480 with 1 Axes>"
      ]
     },
     "metadata": {},
     "output_type": "display_data"
    }
   ],
   "source": [
    "from statsmodels.graphics.tsaplots import plot_pacf\n",
    "pacf = plot_pacf(training_set, lags=25)"
   ]
  },
  {
   "cell_type": "code",
   "execution_count": 41,
   "id": "7aebd88e-5295-4c27-a968-ea45dba46454",
   "metadata": {},
   "outputs": [],
   "source": [
    "from statsmodels.tsa.ar_model import AutoReg\n",
    "ar_model = AutoReg(training_set, lags=10).fit()"
   ]
  },
  {
   "cell_type": "code",
   "execution_count": 42,
   "id": "d4ea5431-aac1-4ec2-90ac-c2eaa18d6a85",
   "metadata": {},
   "outputs": [
    {
     "name": "stdout",
     "output_type": "stream",
     "text": [
      "                            AutoReg Model Results                             \n",
      "==============================================================================\n",
      "Dep. Variable:                      y   No. Observations:                  756\n",
      "Model:                    AutoReg(10)   Log Likelihood               -2209.875\n",
      "Method:               Conditional MLE   S.D. of innovations              4.680\n",
      "Date:                Mon, 11 Sep 2023   AIC                           4443.749\n",
      "Time:                        09:28:54   BIC                           4499.126\n",
      "Sample:                            10   HQIC                          4465.092\n",
      "                                  756                                         \n",
      "==============================================================================\n",
      "                 coef    std err          z      P>|z|      [0.025      0.975]\n",
      "------------------------------------------------------------------------------\n",
      "const          1.7754      0.898      1.978      0.048       0.016       3.535\n",
      "y.L1           0.8898      0.036     24.428      0.000       0.818       0.961\n",
      "y.L2           0.0940      0.048      1.939      0.052      -0.001       0.189\n",
      "y.L3          -0.0268      0.048     -0.554      0.580      -0.122       0.068\n",
      "y.L4           0.0319      0.048      0.660      0.509      -0.063       0.127\n",
      "y.L5           0.0329      0.048      0.683      0.495      -0.062       0.127\n",
      "y.L6          -0.0961      0.048     -1.991      0.047      -0.191      -0.001\n",
      "y.L7           0.0927      0.048      1.915      0.055      -0.002       0.188\n",
      "y.L8          -0.1051      0.049     -2.166      0.030      -0.200      -0.010\n",
      "y.L9           0.1809      0.049      3.723      0.000       0.086       0.276\n",
      "y.L10         -0.1011      0.036     -2.772      0.006      -0.173      -0.030\n",
      "                                    Roots                                     \n",
      "==============================================================================\n",
      "                   Real          Imaginary           Modulus         Frequency\n",
      "------------------------------------------------------------------------------\n",
      "AR.1            -1.0815           -0.4422j            1.1684           -0.4382\n",
      "AR.2            -1.0815           +0.4422j            1.1684            0.4382\n",
      "AR.3            -0.5894           -1.1482j            1.2907           -0.3255\n",
      "AR.4            -0.5894           +1.1482j            1.2907            0.3255\n",
      "AR.5             0.2609           -1.2520j            1.2789           -0.2173\n",
      "AR.6             0.2609           +1.2520j            1.2789            0.2173\n",
      "AR.7             1.0726           -0.8138j            1.3464           -0.1033\n",
      "AR.8             1.0726           +0.8138j            1.3464            0.1033\n",
      "AR.9             1.0060           -0.0000j            1.0060           -0.0000\n",
      "AR.10            1.4590           -0.0000j            1.4590           -0.0000\n",
      "------------------------------------------------------------------------------\n"
     ]
    }
   ],
   "source": [
    "print(ar_model.summary())"
   ]
  },
  {
   "cell_type": "code",
   "execution_count": 43,
   "id": "d9580685-1857-419e-9b32-8f0620b95e44",
   "metadata": {},
   "outputs": [],
   "source": [
    "pred = ar_model.predict(start=756, end=927, dynamic=False)"
   ]
  },
  {
   "cell_type": "code",
   "execution_count": 44,
   "id": "47d83b65-8f10-4aec-8bf4-3c0d21af0542",
   "metadata": {},
   "outputs": [
    {
     "data": {
      "text/plain": [
       "[<matplotlib.lines.Line2D at 0x282815220>]"
      ]
     },
     "execution_count": 44,
     "metadata": {},
     "output_type": "execute_result"
    },
    {
     "data": {
      "image/png": "[encoded data removed]",
      "text/plain": [
       "<Figure size 640x480 with 1 Axes>"
      ]
     },
     "metadata": {},
     "output_type": "display_data"
    }
   ],
   "source": [
    "plt.plot(pred)\n",
    "plt.plot(a, color='red')"
   ]
  },
  {
   "cell_type": "code",
   "execution_count": null,
   "id": "4d4d1efc-e977-48a9-93f4-997547680676",
   "metadata": {},
   "outputs": [],
   "source": []
  }
 ],
 "metadata": {
  "kernelspec": {
   "display_name": "Python 3 (ipykernel)",
   "language": "python",
   "name": "python3"
  },
  "language_info": {
   "codemirror_mode": {
    "name": "ipython",
    "version": 3
   },
   "file_extension": ".py",
   "mimetype": "text/x-python",
   "name": "python",
   "nbconvert_exporter": "python",
   "pygments_lexer": "ipython3",
   "version": "3.8.17"
  }
 },
 "nbformat": 4,
 "nbformat_minor": 5
}
